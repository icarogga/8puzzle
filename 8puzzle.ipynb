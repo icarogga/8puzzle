{
  "nbformat": 4,
  "nbformat_minor": 0,
  "metadata": {
    "colab": {
      "name": "BuscaHeuristica.ipynb",
      "provenance": [],
      "collapsed_sections": [],
      "include_colab_link": true
    },
    "kernelspec": {
      "display_name": "Python 3",
      "name": "python3"
    },
    "language_info": {
      "name": "python"
    }
  },
  "cells": [
    {
      "cell_type": "markdown",
      "metadata": {
        "id": "view-in-github",
        "colab_type": "text"
      },
      "source": [
        "<a href=\"https://colab.research.google.com/github/icarogga/8puzzle/blob/main/8puzzle.ipynb\" target=\"_parent\"><img src=\"https://colab.research.google.com/assets/colab-badge.svg\" alt=\"Open In Colab\"/></a>"
      ]
    },
    {
      "cell_type": "code",
      "metadata": {
        "id": "rVefWNpE5Kdu"
      },
      "source": [
        "import copy\n",
        "import matplotlib.pyplot as plt"
      ],
      "execution_count": 113,
      "outputs": []
    },
    {
      "cell_type": "code",
      "metadata": {
        "id": "yQv3wZO24qbT"
      },
      "source": [
        "def valid(x,y):\n",
        "    r = True\n",
        "    if x < 0 : r = False\n",
        "    if x > 2 : r = False\n",
        "    if y < 0 : r = False\n",
        "    if y > 2 : r = False\n",
        "    return r\n",
        "\n",
        "\n",
        "\n",
        "# s = [[4,1,3],[2,5,6],[0,7,8]]\n",
        "\n",
        "# 4 1 3\n",
        "# 2 5 6\n",
        "# 0 7 8\n",
        "\n",
        "def sons(s):\n",
        "    r = []\n",
        "    x = None\n",
        "    y = None\n",
        "    #localiza zero\n",
        "    for i in range(len(s)):\n",
        "        for j in range(len(s[i])):\n",
        "            if s[i][j] == 0:\n",
        "                x = i\n",
        "                y = j\n",
        "    # cima\n",
        "    vx = x - 1\n",
        "    vy = y\n",
        "    if (valid(vx,vy)):\n",
        "        ts = copy.deepcopy(s)\n",
        "        t = ts[vx][vy]\n",
        "        ts[vx][vy] = ts[x][y]\n",
        "        ts[x][y] = t\n",
        "        r.append(ts)\n",
        "    # baixo\n",
        "    vx = x + 1\n",
        "    vy = y\n",
        "    if (valid(vx,vy)):\n",
        "        ts = copy.deepcopy(s)\n",
        "        t = ts[vx][vy]\n",
        "        ts[vx][vy] = ts[x][y]\n",
        "        ts[x][y] = t\n",
        "        r.append(ts)\n",
        "\n",
        "    # direita\n",
        "    vx = x \n",
        "    vy = y +1\n",
        "    if (valid(vx,vy)):\n",
        "        ts = copy.deepcopy(s)\n",
        "        t = ts[vx][vy]\n",
        "        ts[vx][vy] = ts[x][y]\n",
        "        ts[x][y] = t\n",
        "        r.append(ts)\n",
        "\n",
        "    # esquerda\n",
        "    vx = x \n",
        "    vy = y - 1\n",
        "    if (valid(vx,vy)):\n",
        "        ts = copy.deepcopy(s)\n",
        "        t = ts[vx][vy]\n",
        "        ts[vx][vy] = ts[x][y]\n",
        "        ts[x][y] = t\n",
        "        r.append(ts)\n",
        "\n",
        "    return r"
      ],
      "execution_count": 114,
      "outputs": []
    },
    {
      "cell_type": "code",
      "metadata": {
        "id": "60pt9SRV4-oZ"
      },
      "source": [
        "def printPuzzle(s):\n",
        "    for v in s:\n",
        "        print(v)\n",
        "\n",
        "def son2str(s):\n",
        "    s1 = s[0]+s[1]+s[2]\n",
        "    return ''.join([str(v) for v in s1])"
      ],
      "execution_count": 115,
      "outputs": []
    },
    {
      "cell_type": "code",
      "metadata": {
        "id": "t3i_BYCj5Ds8"
      },
      "source": [
        "def bfs(start,goal):\n",
        "    l = [start]\n",
        "    fathers = dict()\n",
        "    visited = [start]\n",
        "    while (len(l)>0):\n",
        "        father = l[0]\n",
        "        del l[0]\n",
        "        for son in sons(father):\n",
        "            if son not in visited:\n",
        "                visited.append(son)\n",
        "                print(len(visited))\n",
        "                fathers[son2str(son)] = father\n",
        "                if son == goal:\n",
        "                    res = []\n",
        "                    node = son\n",
        "                    while node != start:\n",
        "                        res.append(node)\n",
        "                        node = fathers[son2str(node)]\n",
        "                    res.append(start)\n",
        "                    res.reverse()\n",
        "                    print(res)\n",
        "                    return res\n",
        "                else:\n",
        "                    l.append(son)\n",
        "    print(\"Sem Solucao\")"
      ],
      "execution_count": 116,
      "outputs": []
    },
    {
      "cell_type": "code",
      "metadata": {
        "id": "TN6xHvfl5O6i"
      },
      "source": [
        "\n",
        "s = [[4,1,3],[2,5,6],[0,7,8]]\n",
        "\n",
        "# 4 1 3       1 2 3\n",
        "# 2 5 6   ->  4 5 6\n",
        "# 0 7 8       7 8 0\n",
        "#resp = bfs(s,[[1,2,3],[4,5,6],[7,8,0]])\n",
        "#for s in resp:\n",
        "#    printPuzzle(s)\n",
        "#    print()"
      ],
      "execution_count": 117,
      "outputs": []
    },
    {
      "cell_type": "code",
      "metadata": {
        "id": "kDc9wbOT5URJ"
      },
      "source": [
        "def h2(a,b): # distancia de manhatan\n",
        "    dist = 0\n",
        "    tam = len(a)*len(a[0])\n",
        "    v = [[] for i in range(tam)]\n",
        "    for i in range(len(a)):\n",
        "        for j in range(len(a[i])):\n",
        "            v[a[i][j]].append((i,j))\n",
        "            v[b[i][j]].append((i,j))\n",
        "    for i in range(tam):\n",
        "        dist += abs(v[i][0][0]-v[i][1][0]) + abs(v[i][0][1]-v[i][1][1])\n",
        "    return dist"
      ],
      "execution_count": 118,
      "outputs": []
    },
    {
      "cell_type": "code",
      "metadata": {
        "id": "dy50r2Fh52Ej"
      },
      "source": [
        "start = [[4,1,3],[2,5,6],[0,7,8]]\n",
        "goal  = [[1,2,3],[4,5,6],[7,8,0]]\n",
        "# 4 1 3       1 2 3\n",
        "# 2 5 6   ->  4 5 6\n",
        "# 0 7 8       7 8 0\n",
        "# 1 +2 +0+1+0 +0+1+1+2 = 8"
      ],
      "execution_count": 119,
      "outputs": []
    },
    {
      "cell_type": "code",
      "metadata": {
        "id": "FT9WHfhA7vWF"
      },
      "source": [
        "from heapq import heappush, heappop"
      ],
      "execution_count": 120,
      "outputs": []
    },
    {
      "cell_type": "code",
      "metadata": {
        "id": "Cqj-Vcub6SRI"
      },
      "source": [
        "def busca_heuristica(start,goal,heuristica):\n",
        "    h = []\n",
        "    heappush(h,(heuristica(start,goal),start))\n",
        "    fathers = dict()\n",
        "    visited = [start]\n",
        "    while (len(h)>0):\n",
        "        (_,father) = heappop(h)\n",
        "        for son in sons(father):\n",
        "            if son not in visited:\n",
        "                visited.append(son)\n",
        "                #print(len(visited))\n",
        "                fathers[son2str(son)] = father\n",
        "                if son == goal:\n",
        "                    res = []\n",
        "                    node = son\n",
        "                    while node != start:\n",
        "                        res.append(node)\n",
        "                        node = fathers[son2str(node)]\n",
        "                    res.append(start)\n",
        "                    res.reverse()\n",
        "                    #print(res)\n",
        "                    return res, len(visited)\n",
        "                else:\n",
        "                    heappush(h,(heuristica(son,goal),son))\n",
        "    print(\"Sem Solucao\")"
      ],
      "execution_count": 121,
      "outputs": []
    },
    {
      "cell_type": "code",
      "metadata": {
        "id": "VV-s7pRGuWY_"
      },
      "source": [
        "#@title #Heurística 1\n",
        "def h1(a,b): # numero de posições erradas\n",
        "    dist = 0\n",
        "    tam = len(a)*len(a[0])\n",
        "    v = [[] for i in range(tam)]\n",
        "    for i in range(len(a)):\n",
        "        for j in range(len(a[i])):\n",
        "          v[a[i][j]].append((i,j))\n",
        "          v[b[i][j]].append((i,j))\n",
        "    for i in range(tam):\n",
        "        if v[i][0] != v[i][1]:\n",
        "          dist+=1\n",
        "    return dist"
      ],
      "execution_count": 122,
      "outputs": []
    },
    {
      "cell_type": "code",
      "metadata": {
        "id": "dHlc9WmxrbV4"
      },
      "source": [
        "#@title # A*\n",
        "def A_estrela(start,goal,heuristica):\n",
        "    h = []\n",
        "    profundidade = 0\n",
        "    heappush(h,(heuristica(start,goal)+profundidade,start, profundidade))\n",
        "    fathers = dict()\n",
        "    visited = [start]\n",
        "    while (len(h)>0):\n",
        "        (_,father, profundidade) = heappop(h)\n",
        "        for son in sons(father):\n",
        "            if son not in visited:\n",
        "                visited.append(son)\n",
        "                #print(len(visited))\n",
        "                fathers[son2str(son)] = father\n",
        "                if son == goal:\n",
        "                    res = []\n",
        "                    node = son\n",
        "                    while node != start:\n",
        "                        res.append(node)\n",
        "                        node = fathers[son2str(node)]\n",
        "                    res.append(start)\n",
        "                    res.reverse()\n",
        "                    #print(res)\n",
        "                    return res, len(visited)\n",
        "                else:\n",
        "                    heappush(h,(heuristica(son,goal)+profundidade,son, profundidade+1))\n",
        "    print(\"Sem Solucao\")"
      ],
      "execution_count": 123,
      "outputs": []
    },
    {
      "cell_type": "code",
      "metadata": {
        "colab": {
          "base_uri": "https://localhost:8080/"
        },
        "id": "pENUnUn-R1xr",
        "outputId": "bee1aed7-35e2-4352-cbbf-a818d550949a"
      },
      "source": [
        "#@title #h1: 5 movimentos { run: \"auto\" }\n",
        "start = [[1,2,3],[5,6,0],[4,7,8]]\n",
        "goal  = [[1,2,3],[4,5,6],[7,8,0]]\n",
        "# 4 1 3       1 2 3\n",
        "# 2 5 6   ->  4 5 6\n",
        "# 0 7 8       7 8 0\n",
        "# 1 +2 +0+1+0 +0+1+1+2 = 8\n",
        "resp, num_nos = busca_heuristica(start,goal,h1)\n",
        "cont = -1\n",
        "for s in resp:\n",
        "    cont+=1\n",
        "    #printPuzzle(s)\n",
        "    #print()\n",
        "print(\"O número de movimentos foi:\",cont)"
      ],
      "execution_count": 124,
      "outputs": [
        {
          "output_type": "stream",
          "text": [
            "O número de movimentos foi: 5\n"
          ],
          "name": "stdout"
        }
      ]
    },
    {
      "cell_type": "code",
      "metadata": {
        "colab": {
          "base_uri": "https://localhost:8080/"
        },
        "id": "gdKMr8T6LmfG",
        "outputId": "da844c72-d65c-4c05-ec31-ea7aef7f93cd"
      },
      "source": [
        "#@title #h1: 10 movimentos { run: \"auto\" }\n",
        "start = [[1,2,3],[6,0,8],[5,4,7]]\n",
        "goal  = [[1,2,3],[4,5,6],[7,8,0]]\n",
        "# 4 1 3       1 2 3\n",
        "# 2 5 6   ->  4 5 6\n",
        "# 0 7 8       7 8 0\n",
        "# 1 +2 +0+1+0 +0+1+1+2 = 8\n",
        "resp, num_nos = busca_heuristica(start,goal,h1)\n",
        "cont = -1\n",
        "for s in resp:\n",
        "    cont+=1\n",
        "    #printPuzzle(s)\n",
        "    #print()\n",
        "print(\"O número de movimentos foi:\",cont)\n"
      ],
      "execution_count": 125,
      "outputs": [
        {
          "output_type": "stream",
          "text": [
            "O número de movimentos foi: 10\n"
          ],
          "name": "stdout"
        }
      ]
    },
    {
      "cell_type": "code",
      "metadata": {
        "colab": {
          "base_uri": "https://localhost:8080/"
        },
        "id": "b6DgPqF-689i",
        "outputId": "7fffe5b4-cce9-470c-9d05-dffd0960a581"
      },
      "source": [
        "#@title #h1: 15 movimentos { run: \"auto\" }\n",
        "start = [[1,2,3],[0,4,5],[6,7,8]]\n",
        "goal  = [[1,2,3],[4,5,6],[7,8,0]]\n",
        "# 4 1 3       1 2 3\n",
        "# 2 5 6   ->  4 5 6\n",
        "# 0 7 8       7 8 0\n",
        "# 1 +2 +0+1+0 +0+1+1+2 = 8\n",
        "resp, num_nos = busca_heuristica(start,goal,h1)\n",
        "cont = -1\n",
        "for s in resp:\n",
        "    cont+=1\n",
        "    #printPuzzle(s)\n",
        "    #print()\n",
        "print(\"O número de movimentos foi:\",cont)"
      ],
      "execution_count": 126,
      "outputs": [
        {
          "output_type": "stream",
          "text": [
            "O número de movimentos foi: 15\n"
          ],
          "name": "stdout"
        }
      ]
    },
    {
      "cell_type": "code",
      "metadata": {
        "colab": {
          "base_uri": "https://localhost:8080/"
        },
        "id": "lUvxf6eFfMEi",
        "outputId": "567d2f1b-4eaf-451b-d087-283685f8122a"
      },
      "source": [
        "#@title #h1:  20 movimentos { run: \"auto\" }\n",
        "start = [[2,3,5],[1,4,8],[6,7,0]]\n",
        "goal  = [[1,2,3],[4,5,6],[7,8,0]]\n",
        "# 4 1 3       1 2 3\n",
        "# 2 5 6   ->  4 5 6\n",
        "# 0 7 8       7 8 0\n",
        "# 1 +2 +0+1+0 +0+1+1+2 = 8\n",
        "resp, num_nos = busca_heuristica(start,goal,h1)\n",
        "cont = -1\n",
        "for s in resp:\n",
        "    cont+=1\n",
        "    #printPuzzle(s)\n",
        "    #print()\n",
        "print(\"O número de movimentos foi:\",cont)"
      ],
      "execution_count": 127,
      "outputs": [
        {
          "output_type": "stream",
          "text": [
            "O número de movimentos foi: 20\n"
          ],
          "name": "stdout"
        }
      ]
    },
    {
      "cell_type": "code",
      "metadata": {
        "colab": {
          "base_uri": "https://localhost:8080/"
        },
        "id": "lSZmyZarzVXP",
        "outputId": "656b1347-8b76-4369-a80c-d5caa7bc5713"
      },
      "source": [
        "#@title #h1:  25 movimentos { run: \"auto\" }\n",
        "start = [[2,4,3],[1,7,5],[6,0,8]]\n",
        "goal  = [[1,2,3],[4,5,6],[7,8,0]]\n",
        "# 4 1 3       1 2 3\n",
        "# 2 5 6   ->  4 5 6\n",
        "# 0 7 8       7 8 0\n",
        "# 1 +2 +0+1+0 +0+1+1+2 = 8\n",
        "resp, num_nos = busca_heuristica(start,goal,h1)\n",
        "cont = -1\n",
        "for s in resp:\n",
        "    cont+=1\n",
        "    #printPuzzle(s)\n",
        "    #print()\n",
        "print(\"O número de movimentos foi:\",cont)"
      ],
      "execution_count": 128,
      "outputs": [
        {
          "output_type": "stream",
          "text": [
            "O número de movimentos foi: 25\n"
          ],
          "name": "stdout"
        }
      ]
    },
    {
      "cell_type": "code",
      "metadata": {
        "colab": {
          "base_uri": "https://localhost:8080/",
          "height": 282
        },
        "id": "4P0GAcza2gOm",
        "outputId": "5ec94ffe-2987-4a2e-df61-2c7121b3208b"
      },
      "source": [
        "#@title # Gráficos das Heurísticas 1 e 2 (Hill Climbing) e (A*) { run: \"auto\" }\n",
        "num_movimentos = [5,10,15,20,25]\n",
        "\n",
        "puzzles = [[[1,2,3],[5,6,0],[4,7,8]], #  5 movimentos\n",
        "           [[1,2,3],[6,0,8],[5,4,7]], # 10 movimentos\n",
        "           [[1,2,3],[0,4,5],[6,7,8]], # 15 movimentos\n",
        "           [[2,3,5],[1,4,8],[6,7,0]], # 20 movimentos\n",
        "           [[2,4,3],[1,7,5],[6,0,8]]] # 25 movimentos\n",
        "\n",
        "num_nos_h1 = []\n",
        "num_nos_h2 = []\n",
        "num_nos_A_star = []\n",
        "A_star_h1 = []\n",
        "A_star_h2 = []\n",
        "\n",
        "for i in range(0,5):\n",
        "  resp, num_nos = busca_heuristica(puzzles[i], goal, h1)\n",
        "  num_nos_h1.append(num_nos)\n",
        "  resp, num_nos = busca_heuristica(puzzles[i], goal, h2)\n",
        "  num_nos_h2.append(num_nos)\n",
        "\n",
        "for i in range(0,5):\n",
        "  resp, num_nos = A_estrela(puzzles[i], goal, h1)\n",
        "  A_star_h1.append(num_nos)\n",
        "  resp, num_nos = A_estrela(puzzles[i], goal, h2)\n",
        "  A_star_h2.append(num_nos)\n",
        "\n",
        "# O gráfico da Heurística 1(Hill Climbing) é representado pela cor roxo\n",
        "plt.plot(num_movimentos, num_nos_h1, color = 'purple')\n",
        "\n",
        "# O gráfico da Heurística 2(Hill Climbing) é representado pela cor vermelho\n",
        "plt.plot(num_movimentos, num_nos_h2, color = 'red')\n",
        "\n",
        "# O gráfico da Heurística 2(A*) é representado pela cor rosa\n",
        "plt.plot(num_movimentos, A_star_h1, color = 'pink')\n",
        "\n",
        "# O gráfico da Heurística 2(A*) é representado pela cor laranja\n",
        "plt.plot(num_movimentos, A_star_h2, color = 'orange')\n"
      ],
      "execution_count": 129,
      "outputs": [
        {
          "output_type": "execute_result",
          "data": {
            "text/plain": [
              "[<matplotlib.lines.Line2D at 0x7fdfadf5db10>]"
            ]
          },
          "metadata": {
            "tags": []
          },
          "execution_count": 129
        },
        {
          "output_type": "display_data",
          "data": {
            "image/png": "[encoded data removed]",
            "text/plain": [
              "<Figure size 432x288 with 1 Axes>"
            ]
          },
          "metadata": {
            "tags": [],
            "needs_background": "light"
          }
        }
      ]
    }
  ]
}